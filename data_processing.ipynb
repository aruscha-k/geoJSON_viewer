{
 "cells": [
  {
   "cell_type": "code",
   "execution_count": 1,
   "metadata": {},
   "outputs": [],
   "source": [
    "import geopandas as gpd\n",
    "import fiona\n",
    "import os"
   ]
  },
  {
   "cell_type": "code",
   "execution_count": null,
   "metadata": {},
   "outputs": [],
   "source": [
    "filepath = \"\"\n",
    "\n",
    "if not os.path.exists(filepath):\n",
    "    print(\"!!!! file not found !\")\n",
    "\n",
    "converted_filepath = \"\""
   ]
  },
  {
   "cell_type": "markdown",
   "metadata": {},
   "source": [
    "### JSON"
   ]
  },
  {
   "cell_type": "code",
   "execution_count": null,
   "metadata": {},
   "outputs": [],
   "source": [
    "# open JSON File\n",
    "\n",
    "data_gdf = gpd.read_file(filepath, driver=\"GeoJSON\")\n",
    "\n",
    "#convert data to EPSG 4326\n",
    "data_gdf.crs = \"EPSG:25832\"\n",
    "data_gdf = data_gdf.to_crs(epsg=4326)\n",
    "data_gdf.to_file(converted_filepath, driver=\"GeoJSON\")"
   ]
  },
  {
   "cell_type": "markdown",
   "metadata": {},
   "source": [
    "### GML"
   ]
  },
  {
   "cell_type": "code",
   "execution_count": null,
   "metadata": {},
   "outputs": [],
   "source": [
    "#show layers of GML file\n",
    "layers = fiona.listlayers(filepath)\n",
    "layers"
   ]
  },
  {
   "cell_type": "code",
   "execution_count": null,
   "metadata": {},
   "outputs": [],
   "source": [
    "data_gdf = gpd.read_file(filepath, layer=\"\", driver=\"GML\") #layer can either be the name (string), or the ID (int)\n",
    "\n",
    "#convert coords\n",
    "data_gdf.crs = \"EPSG:25832\"\n",
    "data_gdf = data_gdf.to_crs(epsg=4326)\n",
    "data_gdf.to_file(converted_filepath, driver=\"GeoJSON\")"
   ]
  }
 ],
 "metadata": {
  "kernelspec": {
   "display_name": "parkplatz",
   "language": "python",
   "name": "python3"
  },
  "language_info": {
   "codemirror_mode": {
    "name": "ipython",
    "version": 3
   },
   "file_extension": ".py",
   "mimetype": "text/x-python",
   "name": "python",
   "nbconvert_exporter": "python",
   "pygments_lexer": "ipython3",
   "version": "3.10.4"
  }
 },
 "nbformat": 4,
 "nbformat_minor": 2
}
